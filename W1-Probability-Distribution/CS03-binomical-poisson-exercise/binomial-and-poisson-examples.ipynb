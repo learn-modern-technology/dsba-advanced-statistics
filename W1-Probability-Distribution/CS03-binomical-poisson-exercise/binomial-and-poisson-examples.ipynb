{
 "cells": [
  {
   "cell_type": "markdown",
   "metadata": {
    "colab_type": "text",
    "id": "VcRO8KUaabql"
   },
   "source": [
    "# Problems on Binomial Distributions\n"
   ]
  },
  {
   "cell_type": "markdown",
   "metadata": {
    "colab_type": "text",
    "id": "7jXlKkSsabqn"
   },
   "source": [
    "1)\tIn an inspection of automobiles 60% of all automobiles had emissions that do not meet the pollution requirement. For a random sample of 15 automobiles, compute the following\n",
    "\n",
    "-\tProbability that all 15 fails the inspection\n",
    "-\tExactly 8 fails the inspection\n",
    "-\tSeven or less passes the inspection\n",
    "-\tExpected number of automobiles to pass the inspection and its variance.\n"
   ]
  },
  {
   "cell_type": "code",
   "execution_count": 0,
   "metadata": {
    "colab": {},
    "colab_type": "code",
    "id": "-8ZQzNlDabqp"
   },
   "outputs": [],
   "source": [
    "import numpy as np\n",
    "import scipy.stats as stats"
   ]
  },
  {
   "cell_type": "code",
   "execution_count": 0,
   "metadata": {
    "colab": {},
    "colab_type": "code",
    "id": "ZVTbNFylabq2",
    "outputId": "a18184f4-39dc-439e-a54b-bf8c57740de2"
   },
   "outputs": [
    {
     "name": "stdout",
     "output_type": "stream",
     "text": [
      "Probability that all 15 fails the inspection is 0.00047\n"
     ]
    }
   ],
   "source": [
    "# Probability that all 15 fails the inspection\n",
    "\n",
    "p=0.6\n",
    "n=15\n",
    "k=15\n",
    "binomial = stats.binom.pmf(k,n,p)\n",
    "print('Probability that all 15 fails the inspection is %1.5f' % binomial )"
   ]
  },
  {
   "cell_type": "code",
   "execution_count": 0,
   "metadata": {
    "colab": {},
    "colab_type": "code",
    "id": "8oF7e4Rgabq9",
    "outputId": "53ef9615-8583-4843-ac4f-f563c00513d6"
   },
   "outputs": [
    {
     "name": "stdout",
     "output_type": "stream",
     "text": [
      "Probability Exactly 8 fails the inspection is 0.17708\n"
     ]
    }
   ],
   "source": [
    "# Probability Exactly 8 fails the inspection\n",
    "\n",
    "p=0.6\n",
    "n=15\n",
    "k=8\n",
    "binomial = stats.binom.pmf(k,n,p)\n",
    "print('Probability Exactly 8 fails the inspection is %1.5f' % binomial )"
   ]
  },
  {
   "cell_type": "code",
   "execution_count": 0,
   "metadata": {
    "colab": {},
    "colab_type": "code",
    "id": "_olrI1EeabrI",
    "outputId": "72ce130b-2989-4f82-f898-e3fd78874a08"
   },
   "outputs": [
    {
     "name": "stdout",
     "output_type": "stream",
     "text": [
      "Probability Seven or less passes the inspection is 0.78690\n"
     ]
    }
   ],
   "source": [
    "# Probability Seven or less passes the inspection\n",
    "\n",
    "p=0.6\n",
    "n=15\n",
    "k=7\n",
    "##To  answer this we need to calculate cumulative probability \n",
    "binomial = stats.binom.cdf(k,n,p)\n",
    "#since we have used the p has passing prob, to calculate not passing we just need tosubtract it frim 1\n",
    "binomial_notPassing=1-binomial\n",
    "\n",
    "print('Probability Seven or less passes the inspection is %1.5f' % binomial_notPassing )"
   ]
  },
  {
   "cell_type": "code",
   "execution_count": 0,
   "metadata": {
    "colab": {},
    "colab_type": "code",
    "id": "fUWpBEkxabrT",
    "outputId": "a841a70b-b612-47bf-ac0c-dea4d4eba212"
   },
   "outputs": [
    {
     "name": "stdout",
     "output_type": "stream",
     "text": [
      "Probability Seven or less passes the inspection is 0.78690\n"
     ]
    }
   ],
   "source": [
    "#Alternatively, probability that an automobile will pass pollution test is 0.4. \n",
    "# Probability Seven or less passes the inspection , taking q=0.4, k=7,n=15\n",
    "\n",
    "print('Probability Seven or less passes the inspection is %1.5f' % stats.binom.cdf(7,15,0.4))"
   ]
  },
  {
   "cell_type": "code",
   "execution_count": 0,
   "metadata": {
    "colab": {},
    "colab_type": "code",
    "id": "F-EUq93nabrb",
    "outputId": "43bce1fc-abe8-466f-ecc5-10987f69f5a3"
   },
   "outputs": [
    {
     "name": "stdout",
     "output_type": "stream",
     "text": [
      "Expected number of automobiles is 6.00000\n",
      "variance is 3.60000\n"
     ]
    }
   ],
   "source": [
    "#Expected number of automobiles to pass the inspection and its variance.\n",
    "#E(X) = np\n",
    "p=0.6\n",
    "n=15\n",
    "probability_of_passing_inspection=0.4\n",
    "Expected_automobiles= n*probability_of_passing_inspection\n",
    "print('Expected number of automobiles is %1.5f' % Expected_automobiles )\n",
    "Var_auto = n*p*(1- p)\n",
    "print('variance is %1.5f' % Var_auto )"
   ]
  },
  {
   "cell_type": "markdown",
   "metadata": {
    "colab_type": "text",
    "id": "jeGWrHJhabri"
   },
   "source": [
    "2)\tOver a long period of time in a large multinomial corporation, 10% of all sales trainees are rated as outstanding, 75% are rated as excellent, 10% are rated as satisfactory and 5% are considered unsatisfactory. Find the following probabilities for a sample of 10 trainees selected at random\n",
    "\n",
    "-\tTwo are rated as outstanding\n",
    "-\tTwo or more are rated as outstanding\n",
    "-\tEight of the ten are rated either outstanding or excellent\n",
    "-\tNone of the trainees are rated as unsatisfactory\n"
   ]
  },
  {
   "cell_type": "markdown",
   "metadata": {
    "colab_type": "text",
    "id": "pJTDNcl6abrj"
   },
   "source": [
    "This is a binomial problem."
   ]
  },
  {
   "cell_type": "code",
   "execution_count": 0,
   "metadata": {
    "colab": {},
    "colab_type": "code",
    "id": "nJhIbOHmabrl",
    "outputId": "32c1e229-fe87-4702-f764-d2133622b0a1"
   },
   "outputs": [
    {
     "name": "stdout",
     "output_type": "stream",
     "text": [
      "Probability of two are rated as outstanding is 0.19371\n"
     ]
    }
   ],
   "source": [
    "#Two are rated as outstanding\n",
    "\n",
    "p=0.1\n",
    "n=10\n",
    "k=2\n",
    "binomial = stats.binom.pmf(k,n,p)\n",
    "print('Probability of two are rated as outstanding is %1.5f' % binomial )"
   ]
  },
  {
   "cell_type": "code",
   "execution_count": 0,
   "metadata": {
    "colab": {},
    "colab_type": "code",
    "id": "KxHPMtooabrw",
    "outputId": "d1905403-3b31-4912-d72f-2b45519ba155"
   },
   "outputs": [
    {
     "name": "stdout",
     "output_type": "stream",
     "text": [
      "Probability of two or more are rated as outstanding is 0.26390\n"
     ]
    }
   ],
   "source": [
    "#Two or more are rated as outstanding.\n",
    "\n",
    "#For this we will use cummulative probability\n",
    "p=0.1\n",
    "n=10\n",
    "k=1\n",
    "##To  answer this we need to calculate cumulative probability \n",
    "binomial = stats.binom.cdf(k,n,p)\n",
    "#since we have calculated for 1 or less, for two or more we will subtract this prob from 1\n",
    "print('Probability of two or more are rated as outstanding is %1.5f' % (1-binomial))\n"
   ]
  },
  {
   "cell_type": "code",
   "execution_count": 0,
   "metadata": {
    "colab": {},
    "colab_type": "code",
    "id": "hUf08sVQabr3",
    "outputId": "04cac182-33f8-42b0-f9c4-eb5bc342cff5"
   },
   "outputs": [
    {
     "name": "stdout",
     "output_type": "stream",
     "text": [
      "Probability of eight out of ten is excellent & outstanding is 0.27590\n"
     ]
    }
   ],
   "source": [
    "#Eight of the ten are rated either outstanding or excellent\n",
    "#prob of excellent & outstanding is 75+10\n",
    "p=0.85\n",
    "n=10\n",
    "k=8\n",
    "binomial = stats.binom.pmf(k,n,p)\n",
    "print('Probability of eight out of ten is excellent & outstanding is %1.5f' % binomial )"
   ]
  },
  {
   "cell_type": "code",
   "execution_count": 0,
   "metadata": {
    "colab": {},
    "colab_type": "code",
    "id": "RHtn4WYzabsA",
    "outputId": "e9aa51f1-1a69-44a0-8895-b05c12f4b2b7"
   },
   "outputs": [
    {
     "name": "stdout",
     "output_type": "stream",
     "text": [
      "Probability of no trainees are unsatisfactory is 0.59874\n"
     ]
    }
   ],
   "source": [
    "#None of the trainees are rated as unsatisfactory\\#prob of unsatisfactory is 5\n",
    "p=0.05\n",
    "n=10\n",
    "k=0\n",
    "binomial = stats.binom.pmf(k,n,p)\n",
    "print('Probability of no trainees are unsatisfactory is %1.5f' % binomial )"
   ]
  },
  {
   "cell_type": "markdown",
   "metadata": {
    "colab_type": "text",
    "id": "OhVyCIuqabsJ"
   },
   "source": [
    "3)\tA labor union’s examining board for the selection of trainees has a record of admitting 70% of all applicants who meet a basic set of criteria. Five members of a minority group recently came before the board and four out of five were rejected. Find the probability that one or fewer would be accepted if the record is really 0.7. Did the board apply a lower probability of acceptance when reviewing the five members of the minority group?"
   ]
  },
  {
   "cell_type": "code",
   "execution_count": 0,
   "metadata": {
    "colab": {},
    "colab_type": "code",
    "id": "GW-lnTsdabsK",
    "outputId": "11d8a69a-2b30-4318-b784-df75182cd4d6"
   },
   "outputs": [
    {
     "name": "stdout",
     "output_type": "stream",
     "text": [
      "Probability that 1 or fewer were admitted is 0.03078\n"
     ]
    }
   ],
   "source": [
    "p=0.7\n",
    "n=5\n",
    "k=1\n",
    "binomial = stats.binom.cdf(k,n,p)\n",
    "print('Probability that 1 or fewer were admitted is %1.5f' % binomial )"
   ]
  },
  {
   "cell_type": "markdown",
   "metadata": {
    "colab_type": "text",
    "id": "KyF6L6WjabsS"
   },
   "source": [
    "Since this probability is very small, though not impossible, this event is not likely to occur. Hence our conclusion that in this instance, probability of acceptance does not seem to be 70%, but lower."
   ]
  },
  {
   "cell_type": "code",
   "execution_count": null,
   "metadata": {},
   "outputs": [],
   "source": []
  },
  {
   "cell_type": "markdown",
   "metadata": {
    "colab_type": "text",
    "id": "9mSTa1iFabus"
   },
   "source": [
    "# Problems on Poisson Distribution\n",
    "\n",
    "- A bank is interested in studying the number of people who use the ATM located outside during night hours.\n",
    "- On an average, 1.6 customers walk up to the ATM during a 10-minute interval, b/w 9pm and midnight. \n",
    "\n"
   ]
  },
  {
   "cell_type": "markdown",
   "metadata": {
    "colab_type": "text",
    "id": "P4S_bKRqabuu"
   },
   "source": [
    "# Find the probability of exactly 3 customers using the ATM in a 10-minute interval. "
   ]
  },
  {
   "cell_type": "code",
   "execution_count": 0,
   "metadata": {
    "colab": {},
    "colab_type": "code",
    "id": "F9_ZLhHyabuw",
    "outputId": "1aa05380-c742-40d6-b9ad-0fc8620e1516"
   },
   "outputs": [
    {
     "name": "stdout",
     "output_type": "stream",
     "text": [
      "Probability of exactly 3 customers using the ATM in a 10-minute interval is 13.78\n"
     ]
    }
   ],
   "source": [
    "n=3\n",
    "rate=1.6\n",
    "poisson = stats.poisson.pmf(n,rate) * 100\n",
    "print('Probability of exactly 3 customers using the ATM in a 10-minute interval is %1.2f' % poisson )"
   ]
  },
  {
   "cell_type": "markdown",
   "metadata": {
    "colab_type": "text",
    "id": "ll387q7_abu8"
   },
   "source": [
    "# What is the probability of 3 or fewer people?"
   ]
  },
  {
   "cell_type": "code",
   "execution_count": 0,
   "metadata": {
    "colab": {},
    "colab_type": "code",
    "id": "Y6oOhWxKabu9",
    "outputId": "a952f302-c314-44c2-8677-0aefc47849e8"
   },
   "outputs": [
    {
     "data": {
      "text/plain": [
       "92.11865127702812"
      ]
     },
     "execution_count": 40,
     "metadata": {
      "tags": []
     },
     "output_type": "execute_result"
    }
   ],
   "source": [
    "n=np.arange(0,4)\n",
    "rate=1.6\n",
    "poisson = stats.poisson.pmf(n,rate) * 100\n",
    "\n",
    "#To calculatee the probability of 3 or fewer we will add the prob of 0,1,2 and 3 people\n",
    "poisson[0]+poisson[1]+poisson[2]+poisson[3]"
   ]
  }
 ],
 "metadata": {
  "colab": {
   "name": "SMDM Week-2 Solution .ipynb",
   "provenance": []
  },
  "kernelspec": {
   "display_name": "Python 3",
   "language": "python",
   "name": "python3"
  },
  "language_info": {
   "codemirror_mode": {
    "name": "ipython",
    "version": 3
   },
   "file_extension": ".py",
   "mimetype": "text/x-python",
   "name": "python",
   "nbconvert_exporter": "python",
   "pygments_lexer": "ipython3",
   "version": "3.8.5"
  }
 },
 "nbformat": 4,
 "nbformat_minor": 1
}
