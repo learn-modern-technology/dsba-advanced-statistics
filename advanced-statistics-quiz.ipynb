{
 "cells": [
  {
   "cell_type": "code",
   "execution_count": 1,
   "id": "e06f3fe9",
   "metadata": {},
   "outputs": [],
   "source": [
    "import scipy.stats as stats"
   ]
  },
  {
   "cell_type": "code",
   "execution_count": 2,
   "id": "78814db7",
   "metadata": {},
   "outputs": [
    {
     "data": {
      "text/plain": [
       "0.18755115455350063"
      ]
     },
     "execution_count": 2,
     "metadata": {},
     "output_type": "execute_result"
    }
   ],
   "source": [
    "stats.norm.cdf(400,loc=502, scale= 115)"
   ]
  },
  {
   "cell_type": "code",
   "execution_count": 3,
   "id": "2496651f",
   "metadata": {},
   "outputs": [
    {
     "data": {
      "text/plain": [
       "0.7779289473324054"
      ]
     },
     "execution_count": 3,
     "metadata": {},
     "output_type": "execute_result"
    }
   ],
   "source": [
    "stats.norm.cdf(590,loc=502, scale= 115)"
   ]
  },
  {
   "cell_type": "code",
   "execution_count": 4,
   "id": "fb17c8e1",
   "metadata": {},
   "outputs": [
    {
     "data": {
      "text/plain": [
       "0.5903777927789047"
      ]
     },
     "execution_count": 4,
     "metadata": {},
     "output_type": "execute_result"
    }
   ],
   "source": [
    "stats.norm.cdf(590,loc=502, scale= 115) - stats.norm.cdf(400,loc=502, scale= 115)"
   ]
  },
  {
   "cell_type": "code",
   "execution_count": 5,
   "id": "508bd988",
   "metadata": {},
   "outputs": [],
   "source": [
    "z = (0.260-0.295)/0.025"
   ]
  },
  {
   "cell_type": "code",
   "execution_count": 6,
   "id": "0c03f6e9",
   "metadata": {},
   "outputs": [
    {
     "data": {
      "text/plain": [
       "-1.399999999999999"
      ]
     },
     "execution_count": 6,
     "metadata": {},
     "output_type": "execute_result"
    }
   ],
   "source": [
    "z"
   ]
  }
 ],
 "metadata": {
  "kernelspec": {
   "display_name": "Python 3 (ipykernel)",
   "language": "python",
   "name": "python3"
  },
  "language_info": {
   "codemirror_mode": {
    "name": "ipython",
    "version": 3
   },
   "file_extension": ".py",
   "mimetype": "text/x-python",
   "name": "python",
   "nbconvert_exporter": "python",
   "pygments_lexer": "ipython3",
   "version": "3.9.15"
  }
 },
 "nbformat": 4,
 "nbformat_minor": 5
}
